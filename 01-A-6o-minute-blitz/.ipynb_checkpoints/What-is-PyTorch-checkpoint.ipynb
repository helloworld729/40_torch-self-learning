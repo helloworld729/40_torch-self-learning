{
 "cells": [
  {
   "cell_type": "markdown",
   "metadata": {},
   "source": [
    "#  Tensor"
   ]
  },
  {
   "cell_type": "raw",
   "metadata": {},
   "source": [
    "·张量的定义与初始化\n",
    "·可以用reshape或者resize改变tensor的形状，但是建议使用view\n",
    "·Tensor 和 Numpy之间可以互转，假如是在CPU设备上，那么两者是共享内存的，一个改变另一个也会改变,GPU也是共享的\n",
    "·使用.to()函数可以把Tensor移动到任意设备上，无论实在cpu服务器还是gpu服务器上操作，我们直接定义一个向量就是默认在cpu上的\n",
    "·要把tensor转移到gpu上要使用.to(\"cuda\")方法，反之用.to(\"cpu\")\n",
    "·gpu变量的后继变量也是在gpu上"
   ]
  },
  {
   "cell_type": "code",
   "execution_count": 1,
   "metadata": {},
   "outputs": [],
   "source": [
    "from __future__ import print_function\n",
    "import torch"
   ]
  },
  {
   "cell_type": "code",
   "execution_count": 8,
   "metadata": {},
   "outputs": [
    {
     "data": {
      "text/plain": [
       "tensor([[0.3838, 0.9067, 0.4630],\n",
       "        [0.7232, 0.5060, 0.8794],\n",
       "        [0.0599, 0.6292, 0.9614],\n",
       "        [0.4129, 0.3208, 0.3685],\n",
       "        [0.7015, 0.9147, 0.1028]])"
      ]
     },
     "execution_count": 8,
     "metadata": {},
     "output_type": "execute_result"
    }
   ],
   "source": [
    "torch.rand(5, 3)  # 0-1分布"
   ]
  },
  {
   "cell_type": "code",
   "execution_count": 14,
   "metadata": {},
   "outputs": [
    {
     "data": {
      "text/plain": [
       "tensor([[-0.1489, -2.4803,  0.6956],\n",
       "        [-0.8994, -0.1503,  1.1280],\n",
       "        [ 0.3951, -2.4111, -1.1678],\n",
       "        [-0.9705, -1.3674, -1.1663],\n",
       "        [ 1.2125,  1.3097, -1.0627]])"
      ]
     },
     "execution_count": 14,
     "metadata": {},
     "output_type": "execute_result"
    }
   ],
   "source": [
    "torch.randn((5, 3), dtype=torch.float32)  # 标准正态分布"
   ]
  },
  {
   "cell_type": "code",
   "execution_count": 16,
   "metadata": {},
   "outputs": [
    {
     "data": {
      "text/plain": [
       "tensor([[1., 2., 3.],\n",
       "        [4., 5., 6.]])"
      ]
     },
     "execution_count": 16,
     "metadata": {},
     "output_type": "execute_result"
    }
   ],
   "source": [
    "torch.tensor([[1,2,3], [4,5,6]], dtype=torch.float32)  # 直接初始化"
   ]
  },
  {
   "cell_type": "code",
   "execution_count": 18,
   "metadata": {},
   "outputs": [
    {
     "data": {
      "text/plain": [
       "torch.Size([2, 3])"
      ]
     },
     "execution_count": 18,
     "metadata": {},
     "output_type": "execute_result"
    }
   ],
   "source": [
    "x = torch.ones((2,3))\n",
    "x.size()  # size函数返回一个元组"
   ]
  },
  {
   "cell_type": "markdown",
   "metadata": {},
   "source": [
    "#  Operation"
   ]
  },
  {
   "cell_type": "raw",
   "metadata": {},
   "source": [
    "·张量运算\n",
    "·torch.view  改变形状\n",
    "·如果张量只包含一个数字，那么可以使用.item()返回数值型的数据"
   ]
  },
  {
   "cell_type": "code",
   "execution_count": 21,
   "metadata": {
    "scrolled": true
   },
   "outputs": [
    {
     "name": "stdout",
     "output_type": "stream",
     "text": [
      "tensor([[ 1.6612,  0.6502,  0.6027],\n",
      "        [-0.0241,  0.9106, -1.1017]])\n",
      "tensor([[ 1.6612,  0.6502,  0.6027],\n",
      "        [-0.0241,  0.9106, -1.1017]])\n"
     ]
    }
   ],
   "source": [
    "# 以加法为例，可以用torch.add函数，也可以直接用 + ，结果可以直接放在等号左边，也可以用out参数指定。\n",
    "# 也可以用原地操作，原地操作一般以下划线结尾，例如 y.add_(x)\n",
    "x = torch.randn(2, 3)\n",
    "y = torch.randn(2, 3)\n",
    "z = torch.empty(2, 3)\n",
    "r = torch.add(x, y, out=z)\n",
    "print(z)\n",
    "print(r)"
   ]
  },
  {
   "cell_type": "code",
   "execution_count": 35,
   "metadata": {},
   "outputs": [
    {
     "name": "stdout",
     "output_type": "stream",
     "text": [
      "原始的x\n",
      " tensor([[ 1.2468, 11.5962, -0.3295],\n",
      "        [-1.1261, 21.3879, -1.0395]])\n",
      "x的第一列\n",
      " tensor([11.5962, 21.3879])\n",
      "x的第一列，原地增加后\n",
      " tensor([12.7962, 23.6879])\n",
      "切片改变后的x\n",
      " tensor([[ 1.2468, 12.7962, -0.3295],\n",
      "        [-1.1261, 23.6879, -1.0395]])\n"
     ]
    }
   ],
   "source": [
    "print(\"原始的x\\n\", x)\n",
    "x2 = x[:, 1]\n",
    "print(\"x的第一列\\n\", x2)\n",
    "x2.add_(torch.tensor([1.2, 2.3]))\n",
    "print(\"x的第一列，原地增加后\\n\", x2)\n",
    "print(\"切片改变后的x\\n\",x)\n",
    "# tensor 切片操作是引用，原始的数据会受到改变"
   ]
  },
  {
   "cell_type": "code",
   "execution_count": null,
   "metadata": {},
   "outputs": [],
   "source": []
  },
  {
   "cell_type": "raw",
   "metadata": {},
   "source": [
    "可以用reshape或者resize改变tensor的形状，但是建议使用view"
   ]
  },
  {
   "cell_type": "code",
   "execution_count": 42,
   "metadata": {},
   "outputs": [
    {
     "name": "stdout",
     "output_type": "stream",
     "text": [
      "tensor([[ 0.8708, -0.2877, -0.4856,  0.4297],\n",
      "        [ 0.0462, -0.1027,  0.8725,  1.4353],\n",
      "        [ 0.7700, -0.0044, -0.1507,  0.9506]])\n",
      "tensor([[ 0.8708, -0.2877, -0.4856,  0.4297,  0.0462, -0.1027],\n",
      "        [ 0.8725,  1.4353,  0.7700, -0.0044, -0.1507,  0.9506]])\n",
      "tensor([[ 0.8708, -0.2877, -0.4856,  0.4297,  0.0462, -0.1027],\n",
      "        [ 0.8725,  1.4353,  0.7700, -0.0044, -0.1507,  0.9506]])\n"
     ]
    }
   ],
   "source": [
    "x = torch.randn((3, 4))\n",
    "y = x.view((2, 6))\n",
    "print(x)\n",
    "print(y)\n",
    "print(x.reshape(2,6))"
   ]
  },
  {
   "cell_type": "code",
   "execution_count": null,
   "metadata": {},
   "outputs": [],
   "source": []
  },
  {
   "cell_type": "raw",
   "metadata": {},
   "source": [
    "如果张量只包含一个数字，那么可以使用.item()返回数值型的数据"
   ]
  },
  {
   "cell_type": "code",
   "execution_count": 44,
   "metadata": {},
   "outputs": [
    {
     "name": "stdout",
     "output_type": "stream",
     "text": [
      "tensor([0.0984])\n",
      "0.09837383031845093\n"
     ]
    }
   ],
   "source": [
    "x = torch.rand(1)\n",
    "print(x)\n",
    "print(x.item())"
   ]
  },
  {
   "cell_type": "raw",
   "metadata": {},
   "source": [
    "更多的操作见：https://pytorch.org/docs/torch"
   ]
  },
  {
   "cell_type": "code",
   "execution_count": null,
   "metadata": {},
   "outputs": [],
   "source": []
  },
  {
   "cell_type": "markdown",
   "metadata": {},
   "source": [
    "# Numpy Bridge"
   ]
  },
  {
   "cell_type": "raw",
   "metadata": {},
   "source": [
    "·Tensor 和 Numpy之间可以互转\n",
    "·假如是在CPU设备上，那么两者是共享内存的，一个改变另一个也会改变,GPU也是共享的"
   ]
  },
  {
   "cell_type": "code",
   "execution_count": 45,
   "metadata": {},
   "outputs": [
    {
     "name": "stdout",
     "output_type": "stream",
     "text": [
      "tensor([[-0.2467,  0.0880, -0.1445, -0.6406, -0.5859],\n",
      "        [ 1.7222,  0.6714, -2.0902,  0.0662,  0.9268]])\n",
      "[[-0.24667381  0.08802854 -0.14449818 -0.64063996 -0.58589536]\n",
      " [ 1.7221843   0.67141485 -2.0901568   0.06619217  0.9268441 ]]\n"
     ]
    }
   ],
   "source": [
    "x = torch.randn(2,5)\n",
    "print(x)\n",
    "print(x.numpy())"
   ]
  },
  {
   "cell_type": "code",
   "execution_count": null,
   "metadata": {},
   "outputs": [],
   "source": []
  },
  {
   "cell_type": "code",
   "execution_count": 47,
   "metadata": {},
   "outputs": [
    {
     "name": "stdout",
     "output_type": "stream",
     "text": [
      "[2. 2. 2. 2. 2.]\n",
      "tensor([2., 2., 2., 2., 2.], dtype=torch.float64)\n"
     ]
    }
   ],
   "source": [
    "import numpy as np\n",
    "a = np.ones(5)\n",
    "b = torch.from_numpy(a)\n",
    "b.add_(1)\n",
    "print(a)\n",
    "print(b)"
   ]
  },
  {
   "cell_type": "code",
   "execution_count": null,
   "metadata": {},
   "outputs": [],
   "source": []
  },
  {
   "cell_type": "markdown",
   "metadata": {},
   "source": [
    "# Cuda Tensor"
   ]
  },
  {
   "cell_type": "raw",
   "metadata": {},
   "source": [
    "·使用.to()函数可以把Tensor移动到任意设备上\n",
    "·无论实在cpu服务器还是gpu服务器上操作，我们直接定义一个向量就是默认在cpu上的\n",
    "·要把tensor转移到gpu上要使用.to(\"cuda\")方法"
   ]
  },
  {
   "cell_type": "code",
   "execution_count": 48,
   "metadata": {},
   "outputs": [],
   "source": [
    "x = torch.randn((2, 3))\n",
    "y = torch.ones_like(x)\n",
    "\n",
    "if torch.cuda.is_available():\n",
    "    device = torch.device(\"cuda\")\n",
    "    x = x.to(\"cuda\")\n",
    "    y = y.to(device)\n",
    "    z = x + y\n",
    "    print(z)\n",
    "    print(z.to(\"cpu\", dtype=torch.float))\n",
    "else:\n",
    "    print(\"No cuda\")"
   ]
  },
  {
   "cell_type": "raw",
   "metadata": {},
   "source": [
    "tensor([[1.1233, 0.2364, 2.5231],  # 这是从gpu拷贝过来的结果\n",
    "      [1.3159, 1.0100, 1.2220]], device='cuda:0')\n",
    "tensor([[1.1233, 0.2364, 2.5231],\n",
    "      [1.3159, 1.0100, 1.2220]])"
   ]
  },
  {
   "cell_type": "code",
   "execution_count": null,
   "metadata": {},
   "outputs": [],
   "source": []
  },
  {
   "cell_type": "code",
   "execution_count": null,
   "metadata": {},
   "outputs": [],
   "source": []
  }
 ],
 "metadata": {
  "kernelspec": {
   "display_name": "Python 3",
   "language": "python",
   "name": "python3"
  },
  "language_info": {
   "codemirror_mode": {
    "name": "ipython",
    "version": 3
   },
   "file_extension": ".py",
   "mimetype": "text/x-python",
   "name": "python",
   "nbconvert_exporter": "python",
   "pygments_lexer": "ipython3",
   "version": "3.6.2"
  }
 },
 "nbformat": 4,
 "nbformat_minor": 2
}
