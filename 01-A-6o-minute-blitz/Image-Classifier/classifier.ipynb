{
 "cells": [
  {
   "cell_type": "code",
   "execution_count": 1,
   "metadata": {},
   "outputs": [],
   "source": [
    "from myUtils import *\n",
    "import torch.optim as optim\n",
    "from torch.utils.data import DataLoader\n",
    "import torchvision.transforms as transforms"
   ]
  },
  {
   "cell_type": "markdown",
   "metadata": {},
   "source": [
    "# 超参数"
   ]
  },
  {
   "cell_type": "code",
   "execution_count": 2,
   "metadata": {},
   "outputs": [],
   "source": [
    "train_bs = 4\n",
    "lr = 1e-3\n",
    "max_epoch = 4"
   ]
  },
  {
   "cell_type": "markdown",
   "metadata": {},
   "source": [
    "# 数据"
   ]
  },
  {
   "cell_type": "code",
   "execution_count": 3,
   "metadata": {},
   "outputs": [],
   "source": [
    "train_txt_path = 'Data/train.txt'\n",
    "classes_name = ['plane', 'car', 'bird']\n",
    "\n",
    "normMean = [0.4948052, 0.48568845, 0.44682794]  # 通道均值\n",
    "normStd  = [0.24580306, 0.24236229, 0.2603115]  # 通道方差\n",
    "normTransform = transforms.Normalize(mean=normMean, std=normStd)\n",
    "train_transtorm = transforms.Compose([\n",
    "    transforms.Resize(32),\n",
    "    transforms.RandomCrop(32, padding=4),\n",
    "    transforms.ToTensor(),\n",
    "    normTransform\n",
    "])\n",
    "\n",
    "train_data = MyDataset2(txt_path=train_txt_path, transform=train_transtorm)\n",
    "\n",
    "train_loader = DataLoader(dataset=train_data, batch_size=train_bs, shuffle=True)"
   ]
  },
  {
   "cell_type": "code",
   "execution_count": null,
   "metadata": {},
   "outputs": [],
   "source": []
  },
  {
   "cell_type": "markdown",
   "metadata": {},
   "source": [
    "# 定义网络"
   ]
  },
  {
   "cell_type": "code",
   "execution_count": 4,
   "metadata": {},
   "outputs": [],
   "source": [
    "this_net = Net()\n",
    "criterion = nn.CrossEntropyLoss()\n",
    "optimizer = optim.SGD(params=this_net.parameters(), lr=lr, momentum=0.9)"
   ]
  },
  {
   "cell_type": "markdown",
   "metadata": {},
   "source": [
    "# 训练"
   ]
  },
  {
   "cell_type": "code",
   "execution_count": 5,
   "metadata": {},
   "outputs": [
    {
     "name": "stdout",
     "output_type": "stream",
     "text": [
      "Training: Epoch[ 1/ 4] Loss:2.28 \n",
      "Training: Epoch[ 1/ 4] Loss:2.24 \n",
      "Training: Epoch[ 1/ 4] Loss:2.21 \n",
      "Training: Epoch[ 2/ 4] Loss:2.15 \n",
      "Training: Epoch[ 2/ 4] Loss:2.04 \n",
      "Training: Epoch[ 2/ 4] Loss:1.85 \n",
      "Training: Epoch[ 3/ 4] Loss:1.29 \n",
      "Training: Epoch[ 3/ 4] Loss:1.48 \n",
      "Training: Epoch[ 3/ 4] Loss:1.21 \n",
      "Training: Epoch[ 4/ 4] Loss:1.47 \n",
      "Training: Epoch[ 4/ 4] Loss:1.24 \n",
      "Training: Epoch[ 4/ 4] Loss:0.96 \n"
     ]
    }
   ],
   "source": [
    "for epoch in range(max_epoch):\n",
    "    for index, data in enumerate(train_loader):\n",
    "        data_x, label = data\n",
    "        optimizer.zero_grad()\n",
    "        output = this_net(data_x)\n",
    "        loss = criterion(output, label)\n",
    "        loss.backward()\n",
    "        optimizer.step()\n",
    "        if (index+1) % 10 == 0:\n",
    "            # 左对齐， 宽度为5，小数位数2\n",
    "            print('Training: Epoch[{:2}/{:2}] Loss:{:<5.2f}'.\n",
    "            format(epoch+1, max_epoch, loss.item()))"
   ]
  },
  {
   "cell_type": "code",
   "execution_count": null,
   "metadata": {},
   "outputs": [],
   "source": []
  }
 ],
 "metadata": {
  "kernelspec": {
   "display_name": "Python 3",
   "language": "python",
   "name": "python3"
  },
  "language_info": {
   "codemirror_mode": {
    "name": "ipython",
    "version": 3
   },
   "file_extension": ".py",
   "mimetype": "text/x-python",
   "name": "python",
   "nbconvert_exporter": "python",
   "pygments_lexer": "ipython3",
   "version": "3.6.2"
  }
 },
 "nbformat": 4,
 "nbformat_minor": 2
}
